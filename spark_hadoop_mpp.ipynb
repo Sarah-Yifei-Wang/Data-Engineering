{
 "cells": [
  {
   "cell_type": "markdown",
   "metadata": {},
   "source": [
    "## Spark Hadoop Mpp\n",
    "Yifei Wang"
   ]
  },
  {
   "cell_type": "code",
   "execution_count": 1,
   "metadata": {},
   "outputs": [],
   "source": [
    "import pyspark.sql\n",
    "import pyspark\n",
    "import spark\n",
    "from pyspark.sql import SparkSession\n",
    "import pprint  "
   ]
  },
  {
   "cell_type": "code",
   "execution_count": 2,
   "metadata": {},
   "outputs": [],
   "source": [
    "spark = SparkSession \\\n",
    "    .builder \\\n",
    "    .appName(\"Python Spark SQL basic example\") \\\n",
    "    .config(\"spark.some.config.option\", \"some-value\") \\\n",
    "    .getOrCreate()"
   ]
  },
  {
   "cell_type": "markdown",
   "metadata": {},
   "source": [
    "Step 1 – Load JSON Data"
   ]
  },
  {
   "cell_type": "code",
   "execution_count": 3,
   "metadata": {},
   "outputs": [],
   "source": [
    "assessments_1 = spark.read.format('json').load(\"assessments.json\")"
   ]
  },
  {
   "cell_type": "markdown",
   "metadata": {},
   "source": [
    "Step 2 – Prey Print First JSON Object"
   ]
  },
  {
   "cell_type": "code",
   "execution_count": 4,
   "metadata": {
    "scrolled": true
   },
   "outputs": [
    {
     "name": "stdout",
     "output_type": "stream",
     "text": [
      "+--------------------+-------------+--------------------+-----------------+--------------------+-----------------+------------+--------------------+--------------------+--------------------+\n",
      "|        base_exam_id|certification|           exam_name|  keen_created_at|             keen_id|   keen_timestamp|max_attempts|           sequences|          started_at|        user_exam_id|\n",
      "+--------------------+-------------+--------------------+-----------------+--------------------+-----------------+------------+--------------------+--------------------+--------------------+\n",
      "|37f0a30a-7464-11e...|        false|Normal Forms and ...|1516717442.735266|5a6745820eb8ab000...|1516717442.735266|         1.0|[1, [false, 2, 1,...|2018-01-23T14:23:...|6d4089e4-bde5-4a2...|\n",
      "+--------------------+-------------+--------------------+-----------------+--------------------+-----------------+------------+--------------------+--------------------+--------------------+\n",
      "only showing top 1 row\n",
      "\n",
      "None\n"
     ]
    }
   ],
   "source": [
    "pprint.pprint(assessments_1.show(1))\n",
    "\n"
   ]
  },
  {
   "cell_type": "markdown",
   "metadata": {},
   "source": [
    "Step 3 – Recursive Walk First JSON Object"
   ]
  },
  {
   "cell_type": "code",
   "execution_count": 5,
   "metadata": {},
   "outputs": [
    {
     "name": "stdout",
     "output_type": "stream",
     "text": [
      "root\n",
      " |-- base_exam_id: string (nullable = true)\n",
      "\n",
      "+------------------------------------+\n",
      "|base_exam_id                        |\n",
      "+------------------------------------+\n",
      "|37f0a30a-7464-11e6-aa92-a8667f27e5dc|\n",
      "+------------------------------------+\n",
      "only showing top 1 row\n",
      "\n",
      "root\n",
      " |-- certification: string (nullable = true)\n",
      "\n",
      "+-------------+\n",
      "|certification|\n",
      "+-------------+\n",
      "|false        |\n",
      "+-------------+\n",
      "only showing top 1 row\n",
      "\n",
      "root\n",
      " |-- exam_name: string (nullable = true)\n",
      "\n",
      "+-------------------------------------------+\n",
      "|exam_name                                  |\n",
      "+-------------------------------------------+\n",
      "|Normal Forms and All That Jazz Master Class|\n",
      "+-------------------------------------------+\n",
      "only showing top 1 row\n",
      "\n",
      "root\n",
      " |-- keen_created_at: string (nullable = true)\n",
      "\n",
      "+-----------------+\n",
      "|keen_created_at  |\n",
      "+-----------------+\n",
      "|1516717442.735266|\n",
      "+-----------------+\n",
      "only showing top 1 row\n",
      "\n",
      "root\n",
      " |-- keen_id: string (nullable = true)\n",
      "\n",
      "+------------------------+\n",
      "|keen_id                 |\n",
      "+------------------------+\n",
      "|5a6745820eb8ab00016be1f1|\n",
      "+------------------------+\n",
      "only showing top 1 row\n",
      "\n",
      "root\n",
      " |-- keen_timestamp: string (nullable = true)\n",
      "\n",
      "+-----------------+\n",
      "|keen_timestamp   |\n",
      "+-----------------+\n",
      "|1516717442.735266|\n",
      "+-----------------+\n",
      "only showing top 1 row\n",
      "\n",
      "root\n",
      " |-- max_attempts: string (nullable = true)\n",
      "\n",
      "+------------+\n",
      "|max_attempts|\n",
      "+------------+\n",
      "|1.0         |\n",
      "+------------+\n",
      "only showing top 1 row\n",
      "\n",
      "root\n",
      " |-- sequences: struct (nullable = true)\n",
      " |    |-- attempt: long (nullable = true)\n",
      " |    |-- counts: struct (nullable = true)\n",
      " |    |    |-- all_correct: boolean (nullable = true)\n",
      " |    |    |-- correct: long (nullable = true)\n",
      " |    |    |-- incomplete: long (nullable = true)\n",
      " |    |    |-- incorrect: long (nullable = true)\n",
      " |    |    |-- submitted: long (nullable = true)\n",
      " |    |    |-- total: long (nullable = true)\n",
      " |    |    |-- unanswered: long (nullable = true)\n",
      " |    |-- id: string (nullable = true)\n",
      " |    |-- questions: array (nullable = true)\n",
      " |    |    |-- element: struct (containsNull = true)\n",
      " |    |    |    |-- id: string (nullable = true)\n",
      " |    |    |    |-- options: array (nullable = true)\n",
      " |    |    |    |    |-- element: struct (containsNull = true)\n",
      " |    |    |    |    |    |-- at: string (nullable = true)\n",
      " |    |    |    |    |    |-- checked: boolean (nullable = true)\n",
      " |    |    |    |    |    |-- correct: boolean (nullable = true)\n",
      " |    |    |    |    |    |-- id: string (nullable = true)\n",
      " |    |    |    |    |    |-- submitted: long (nullable = true)\n",
      " |    |    |    |-- user_correct: boolean (nullable = true)\n",
      " |    |    |    |-- user_incomplete: boolean (nullable = true)\n",
      " |    |    |    |-- user_result: string (nullable = true)\n",
      " |    |    |    |-- user_submitted: boolean (nullable = true)\n",
      "\n",
      "+--------------------------------------------------------------------------------------------------------------------------------------------------------------------------------------------------------------------------------------------------------------------------------------------------------------------------------------------------------------------------------------------------------------------------------------------------------------------------------------------------------------------------------------------------------------------------------------------------------------------------------------------------------------------------------------------------------------------------------------------------------------------------------------------------------------------------------------------------------------------------------------------------------------------------------------------------------------------------------------------------------------------------------------------------------------------------------------------------------------------------------------------------------------------------------------------------------------------------------------------------------------------------------------------------------------------------------------------------------------+\n",
      "|sequences                                                                                                                                                                                                                                                                                                                                                                                                                                                                                                                                                                                                                                                                                                                                                                                                                                                                                                                                                                                                                                                                                                                                                                                                                                                                                                                                                     |\n",
      "+--------------------------------------------------------------------------------------------------------------------------------------------------------------------------------------------------------------------------------------------------------------------------------------------------------------------------------------------------------------------------------------------------------------------------------------------------------------------------------------------------------------------------------------------------------------------------------------------------------------------------------------------------------------------------------------------------------------------------------------------------------------------------------------------------------------------------------------------------------------------------------------------------------------------------------------------------------------------------------------------------------------------------------------------------------------------------------------------------------------------------------------------------------------------------------------------------------------------------------------------------------------------------------------------------------------------------------------------------------------+\n",
      "|[1, [false, 2, 1, 1, 4, 4, 0], 5b28a462-7a3b-42e0-b508-09f3906d1703, [[7a2ed6d3-f492-49b3-b8aa-d080a8aad986, [[2018-01-23T14:23:24.670Z, true, true, 49c574b4-5c82-4ffd-9bd1-c3358faf850d, 1], [2018-01-23T14:23:25.914Z, true, true, f2528210-35c3-4320-acf3-9056567ea19f, 1], [, false, true, d1bf026f-554f-4543-bdd2-54dcf105b826,]], false, true, missed_some, true], [bbed4358-999d-4462-9596-bad5173a6ecb, [[2018-01-23T14:23:30.116Z, true,, a35d0e80-8c49-415d-b8cb-c21a02627e2b, 1], [, false, true, bccd6e2e-2cef-4c72-8bfa-317db0ac48bb,], [2018-01-23T14:23:41.791Z, true, true, 7e0b639a-2ef8-4604-b7eb-5018bd81a91b, 1]], false, false, incorrect, true], [e6ad8644-96b1-4617-b37b-a263dded202c, [[2018-01-23T14:23:52.510Z, false,, a9333679-de9d-41ff-bb3d-b239d6b95732,], [, false,, 85795acc-b4b1-4510-bd6e-41648a3553c9,], [2018-01-23T14:23:54.223Z, true, true, c185ecdb-48fb-4edb-ae4e-0204ac7a0909, 1], [2018-01-23T14:23:53.862Z, true, true, 77a66c83-d001-45cd-9a5a-6bba8eb7389e, 1]], true, false, correct, true], [95194331-ac43-454e-83de-ea8913067055, [[, false,, 59b9fc4b-f239-4850-b1f9-912d1fd3ca13,], [, false,, 2c29e8e8-d4a8-406e-9cdf-de28ec5890fe,], [, false,, 62feee6e-9b76-4123-bd9e-c0b35126b1f1,], [2018-01-23T14:24:00.807Z, true, true, 7f13df9c-fcbe-4424-914f-2206f106765c, 1]], true, false, correct, true]]]|\n",
      "+--------------------------------------------------------------------------------------------------------------------------------------------------------------------------------------------------------------------------------------------------------------------------------------------------------------------------------------------------------------------------------------------------------------------------------------------------------------------------------------------------------------------------------------------------------------------------------------------------------------------------------------------------------------------------------------------------------------------------------------------------------------------------------------------------------------------------------------------------------------------------------------------------------------------------------------------------------------------------------------------------------------------------------------------------------------------------------------------------------------------------------------------------------------------------------------------------------------------------------------------------------------------------------------------------------------------------------------------------------------+\n",
      "only showing top 1 row\n",
      "\n",
      "root\n",
      " |-- started_at: string (nullable = true)\n",
      "\n"
     ]
    },
    {
     "name": "stdout",
     "output_type": "stream",
     "text": [
      "+------------------------+\n",
      "|started_at              |\n",
      "+------------------------+\n",
      "|2018-01-23T14:23:19.082Z|\n",
      "+------------------------+\n",
      "only showing top 1 row\n",
      "\n",
      "root\n",
      " |-- user_exam_id: string (nullable = true)\n",
      "\n",
      "+------------------------------------+\n",
      "|user_exam_id                        |\n",
      "+------------------------------------+\n",
      "|6d4089e4-bde5-4a22-b65f-18bce9ab79c8|\n",
      "+------------------------------------+\n",
      "only showing top 1 row\n",
      "\n"
     ]
    }
   ],
   "source": [
    "row = assessments_1.first()\n",
    "for key in row.asDict().keys():\n",
    "    app = assessments_1.select(key);\n",
    "    app.registerTempTable(key);\n",
    "    app.printSchema();\n",
    "    app.show(1,False);"
   ]
  },
  {
   "cell_type": "markdown",
   "metadata": {},
   "source": [
    "Step 4 – Demonstrate MPP Spark Transform\n"
   ]
  },
  {
   "cell_type": "code",
   "execution_count": 6,
   "metadata": {},
   "outputs": [
    {
     "name": "stdout",
     "output_type": "stream",
     "text": [
      "+-------------+\n",
      "|sequences_len|\n",
      "+-------------+\n",
      "|            1|\n",
      "|            1|\n",
      "|            1|\n",
      "|            1|\n",
      "|            1|\n",
      "|            1|\n",
      "|            1|\n",
      "|            1|\n",
      "|            1|\n",
      "|            1|\n",
      "|            1|\n",
      "|            1|\n",
      "|            1|\n",
      "|            1|\n",
      "|            1|\n",
      "|            1|\n",
      "|            1|\n",
      "|            1|\n",
      "|            1|\n",
      "|            1|\n",
      "+-------------+\n",
      "only showing top 20 rows\n",
      "\n"
     ]
    }
   ],
   "source": [
    "assessments_2 = assessments_1.select('sequences').rdd.map(lambda x: (len(x), )).toDF()\n",
    "assessments_2 = assessments_2.withColumnRenamed(\"_1\",\"sequences_len\")\n",
    "assessments_2.show()"
   ]
  },
  {
   "cell_type": "markdown",
   "metadata": {},
   "source": [
    "Step 5 – Spark SQL in Memory Query"
   ]
  },
  {
   "cell_type": "code",
   "execution_count": 7,
   "metadata": {},
   "outputs": [],
   "source": [
    "assessments_2.registerTempTable('w205')"
   ]
  },
  {
   "cell_type": "code",
   "execution_count": 8,
   "metadata": {},
   "outputs": [
    {
     "name": "stdout",
     "output_type": "stream",
     "text": [
      "+--------+\n",
      "|count(1)|\n",
      "+--------+\n",
      "|    3280|\n",
      "+--------+\n",
      "\n"
     ]
    }
   ],
   "source": [
    "assessments_3 = spark.sql(\"select count(*) from w205\")\n",
    "assessments_3.show()"
   ]
  },
  {
   "cell_type": "markdown",
   "metadata": {},
   "source": [
    "Step 6 – Write to Hadoop HDFS Parquet Columnar Table and Impose Schema on Read"
   ]
  },
  {
   "cell_type": "code",
   "execution_count": 9,
   "metadata": {},
   "outputs": [],
   "source": [
    "assessments_1.write.parquet(\"assessments.parquet\")"
   ]
  },
  {
   "cell_type": "markdown",
   "metadata": {},
   "source": [
    "Step 7 – Spark SQL Query against Hadoop HDFS Parquet Columnar Table"
   ]
  },
  {
   "cell_type": "code",
   "execution_count": 10,
   "metadata": {},
   "outputs": [
    {
     "name": "stdout",
     "output_type": "stream",
     "text": [
      "+------------------------------------+\n",
      "|max(base_exam_id)                   |\n",
      "+------------------------------------+\n",
      "|ffc5c454-7460-11e6-bea1-a4d18ccf3cb4|\n",
      "+------------------------------------+\n",
      "\n"
     ]
    }
   ],
   "source": [
    "q7 = spark.read.parquet('assessments.parquet')\n",
    "q7.registerTempTable('q7')\n",
    "spark.sql('select max(base_exam_id) from q7').show(1,False)"
   ]
  },
  {
   "cell_type": "markdown",
   "metadata": {},
   "source": [
    "Step 8 – MPP Read from Hadoop HDFS Parquet Columnar Table"
   ]
  },
  {
   "cell_type": "code",
   "execution_count": 11,
   "metadata": {},
   "outputs": [],
   "source": [
    "assessments_4 = spark.read.parquet('assessments.parquet')"
   ]
  },
  {
   "cell_type": "code",
   "execution_count": 12,
   "metadata": {},
   "outputs": [
    {
     "data": {
      "text/plain": [
       "pyspark.sql.dataframe.DataFrame"
      ]
     },
     "execution_count": 12,
     "metadata": {},
     "output_type": "execute_result"
    }
   ],
   "source": [
    "type(assessments_4)"
   ]
  },
  {
   "cell_type": "code",
   "execution_count": null,
   "metadata": {},
   "outputs": [],
   "source": []
  }
 ],
 "metadata": {
  "kernelspec": {
   "display_name": "Python 3",
   "language": "python",
   "name": "python3"
  },
  "language_info": {
   "codemirror_mode": {
    "name": "ipython",
    "version": 3
   },
   "file_extension": ".py",
   "mimetype": "text/x-python",
   "name": "python",
   "nbconvert_exporter": "python",
   "pygments_lexer": "ipython3",
   "version": "3.7.0"
  }
 },
 "nbformat": 4,
 "nbformat_minor": 2
}
